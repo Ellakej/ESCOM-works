{
  "nbformat": 4,
  "nbformat_minor": 0,
  "metadata": {
    "colab": {
      "provenance": [],
      "authorship_tag": "ABX9TyOuyxAg4W4VRl74RzyCvySd",
      "include_colab_link": true
    },
    "kernelspec": {
      "name": "python3",
      "display_name": "Python 3"
    },
    "language_info": {
      "name": "python"
    }
  },
  "cells": [
    {
      "cell_type": "markdown",
      "metadata": {
        "id": "view-in-github",
        "colab_type": "text"
      },
      "source": [
        "<a href=\"https://colab.research.google.com/github/Ellakej/ESCOM-works/blob/master/Vision_practica1.ipynb\" target=\"_parent\"><img src=\"https://colab.research.google.com/assets/colab-badge.svg\" alt=\"Open In Colab\"/></a>"
      ]
    },
    {
      "cell_type": "markdown",
      "source": [
        "# Visión Artificial\n",
        "## Práctica 1. Clasificador de puntos\n",
        "\n",
        "Datos a usar:\n",
        "\n",
        "C1 = [1, 2, 1, 4, 3], [2, 0, 3, 1, 2]\n",
        "\n",
        "C2 = [3, 3, 5, 6, 5], [4, 7, 2, 5, 0]\n",
        "\n",
        "C3 = [7, 6, 9, 8, 7], [3, 9, 0, 1, 2]"
      ],
      "metadata": {
        "id": "y_PLm9DdZe8b"
      }
    },
    {
      "cell_type": "code",
      "execution_count": 39,
      "metadata": {
        "id": "6rJUYvEPhrPY"
      },
      "outputs": [],
      "source": [
        "# Librerias\n",
        "import numpy as np\n",
        "import pandas as pd\n",
        "import matplotlib.pyplot as plt\n"
      ]
    },
    {
      "cell_type": "code",
      "source": [
        "# Generacion de 4 clases con datos\n",
        "C = []\n",
        "\n",
        "C.append(np.array([[1, 2, 1, 4, 3], [2, 0, 3, 1, 2]]).astype(np.float))\n",
        "C.append(np.array([[3, 3, 5, 6, 5], [4, 7, 2, 5, 0]]).astype(np.float))\n",
        "C.append(np.array([[7, 6, 9, 8, 7], [3, 9, 0, 1, 2]]).astype(np.float))\n"
      ],
      "metadata": {
        "id": "ogzoIo5miejJ",
        "colab": {
          "base_uri": "https://localhost:8080/"
        },
        "outputId": "38abf0fd-2d65-41e2-f0d1-c3a00719eadf"
      },
      "execution_count": 40,
      "outputs": [
        {
          "output_type": "stream",
          "name": "stderr",
          "text": [
            "<ipython-input-40-964f62510cdf>:4: DeprecationWarning: `np.float` is a deprecated alias for the builtin `float`. To silence this warning, use `float` by itself. Doing this will not modify any behavior and is safe. If you specifically wanted the numpy scalar type, use `np.float64` here.\n",
            "Deprecated in NumPy 1.20; for more details and guidance: https://numpy.org/devdocs/release/1.20.0-notes.html#deprecations\n",
            "  C.append(np.array([[1, 2, 1, 4, 3], [2, 0, 3, 1, 2]]).astype(np.float))\n",
            "<ipython-input-40-964f62510cdf>:5: DeprecationWarning: `np.float` is a deprecated alias for the builtin `float`. To silence this warning, use `float` by itself. Doing this will not modify any behavior and is safe. If you specifically wanted the numpy scalar type, use `np.float64` here.\n",
            "Deprecated in NumPy 1.20; for more details and guidance: https://numpy.org/devdocs/release/1.20.0-notes.html#deprecations\n",
            "  C.append(np.array([[3, 3, 5, 6, 5], [4, 7, 2, 5, 0]]).astype(np.float))\n",
            "<ipython-input-40-964f62510cdf>:6: DeprecationWarning: `np.float` is a deprecated alias for the builtin `float`. To silence this warning, use `float` by itself. Doing this will not modify any behavior and is safe. If you specifically wanted the numpy scalar type, use `np.float64` here.\n",
            "Deprecated in NumPy 1.20; for more details and guidance: https://numpy.org/devdocs/release/1.20.0-notes.html#deprecations\n",
            "  C.append(np.array([[7, 6, 9, 8, 7], [3, 9, 0, 1, 2]]).astype(np.float))\n"
          ]
        }
      ]
    },
    {
      "cell_type": "code",
      "source": [
        "# Cálculo de los centroides con mean\n",
        "centroides = []\n",
        "for i in range(0, 3):\n",
        "  centroides.append(np.mean(C[i], axis=1))\n"
      ],
      "metadata": {
        "id": "FO7VG95UjBb7"
      },
      "execution_count": 41,
      "outputs": []
    },
    {
      "cell_type": "code",
      "source": [
        "def getPunto():\n",
        "  x = float(input(\"Introduce el valor de x: \\n\"))\n",
        "  y = float(input(\"Introduce el valor de y: \\n\"))\n",
        "\n",
        "  # Crear array tipo numpy\n",
        "  punto = np.array([x, y])\n",
        "\n",
        "  return punto"
      ],
      "metadata": {
        "id": "16hg7rWEJOzH"
      },
      "execution_count": 42,
      "outputs": []
    },
    {
      "cell_type": "code",
      "source": [
        "# Ciclo iterativo de obtención de coordenadas\n",
        "opc = True\n",
        "\n",
        "while(opc):\n",
        "  punto = getPunto()\n",
        "\n",
        "  dist = []\n",
        "\n",
        "  # Distancias\n",
        "  for i in range(0, 3):\n",
        "    dist.append(np.linalg.norm(punto - centroides[i]))\n",
        "\n",
        "  # Gráfica del punto\n",
        "  # Crear el gráfico\n",
        "  fig, ax = plt.subplots()\n",
        "\n",
        "  # Agregar cada clase al gráfico\n",
        "  markers = [\"ISC\", \"LCD\", \"IIA\"]\n",
        "\n",
        "  i = 0\n",
        "  for c in C:\n",
        "      ax.scatter(c[0], c[1], marker='o', s=50, label=markers[i])\n",
        "      i = i + 1\n",
        "  \n",
        "  ax.scatter(punto[0], punto[1], marker='*', s=200, color='black', label=\"Individuo\")\n",
        "  ax\n",
        "\n",
        "  ax.legend()\n",
        "  plt.show()\n",
        "\n",
        "  # Decision\n",
        "  # Obtener valor mínimo y su posición\n",
        "  minimo = np.min(dist)\n",
        "  valor = np.where(dist == minimo)[0]\n",
        "\n",
        "\n",
        "  if(minimo <= 8):\n",
        "    print(\"\\nEs de la carrera: \" + markers[int(valor)])\n",
        "  else:\n",
        "    print(\"\\nEstás lejos mijo\")\n",
        "\n",
        "  # Romper el ciclo\n",
        "  if((int(input(\"\\n\\nEscribe 1 para otra operación, 0 para parar: \\n\"))) == 0):\n",
        "    opc = False\n",
        "  else:\n",
        "    print(\"\\nReiniciando...\\n\\n\")\n",
        "\n",
        "print(\"\\n\\nFinalizado.\")"
      ],
      "metadata": {
        "colab": {
          "base_uri": "https://localhost:8080/",
          "height": 1000
        },
        "id": "HDKTmfxNxvX4",
        "outputId": "93446d00-ac09-4099-9078-484b2741e74a"
      },
      "execution_count": 45,
      "outputs": [
        {
          "name": "stdout",
          "output_type": "stream",
          "text": [
            "Introduce el valor de x: \n",
            "2\n",
            "Introduce el valor de y: \n",
            "1\n"
          ]
        },
        {
          "output_type": "display_data",
          "data": {
            "text/plain": [
              "<Figure size 432x288 with 1 Axes>"
            ],
            "image/png": "[encoded data removed]"
          },
          "metadata": {
            "needs_background": "light"
          }
        },
        {
          "name": "stdout",
          "output_type": "stream",
          "text": [
            "\n",
            "Es de la carrera: ISC\n",
            "\n",
            "\n",
            "Escribe 1 para otra operación, 0 para parar: \n",
            "1\n",
            "\n",
            "Reiniciando...\n",
            "\n",
            "\n",
            "Introduce el valor de x: \n",
            "5\n",
            "Introduce el valor de y: \n",
            "4\n"
          ]
        },
        {
          "output_type": "display_data",
          "data": {
            "text/plain": [
              "<Figure size 432x288 with 1 Axes>"
            ],
            "image/png": "[encoded data removed]"
          },
          "metadata": {
            "needs_background": "light"
          }
        },
        {
          "name": "stdout",
          "output_type": "stream",
          "text": [
            "\n",
            "Es de la carrera: LCD\n",
            "\n",
            "\n",
            "Escribe 1 para otra operación, 0 para parar: \n",
            "1\n",
            "\n",
            "Reiniciando...\n",
            "\n",
            "\n",
            "Introduce el valor de x: \n",
            "9\n",
            "Introduce el valor de y: \n",
            "9\n"
          ]
        },
        {
          "output_type": "display_data",
          "data": {
            "text/plain": [
              "<Figure size 432x288 with 1 Axes>"
            ],
            "image/png": "[encoded data removed]"
          },
          "metadata": {
            "needs_background": "light"
          }
        },
        {
          "name": "stdout",
          "output_type": "stream",
          "text": [
            "\n",
            "Es de la carrera: IIA\n",
            "\n",
            "\n",
            "Escribe 1 para otra operación, 0 para parar: \n",
            "1\n",
            "\n",
            "Reiniciando...\n",
            "\n",
            "\n",
            "Introduce el valor de x: \n",
            "17\n",
            "Introduce el valor de y: \n",
            "20\n"
          ]
        },
        {
          "output_type": "display_data",
          "data": {
            "text/plain": [
              "<Figure size 432x288 with 1 Axes>"
            ],
            "image/png": "[encoded data removed]"
          },
          "metadata": {
            "needs_background": "light"
          }
        },
        {
          "output_type": "stream",
          "name": "stdout",
          "text": [
            "\n",
            "Estás lejos mijo\n",
            "\n",
            "\n",
            "Escribe 1 para otra operación, 0 para parar: \n",
            "0\n",
            "\n",
            "\n",
            "Finalizado.\n"
          ]
        }
      ]
    }
  ]
}